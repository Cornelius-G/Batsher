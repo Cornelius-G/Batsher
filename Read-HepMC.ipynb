{
 "cells": [
  {
   "cell_type": "code",
   "execution_count": 1,
   "id": "41eab0c6",
   "metadata": {},
   "outputs": [],
   "source": [
    "import pyhepmc\n",
    "import graphviz\n",
    "import matplotlib.pyplot as plt"
   ]
  },
  {
   "cell_type": "code",
   "execution_count": 7,
   "id": "ff4a5974",
   "metadata": {},
   "outputs": [
    {
     "data": {
      "text/plain": [
       "'/net/e4-nfs-home.e4.physik.tu-dortmund.de/home/cgrunwald/projects/KISS/sherpa.bat/cpp_interface/Batsher'"
      ]
     },
     "execution_count": 7,
     "metadata": {},
     "output_type": "execute_result"
    }
   ],
   "source": [
    "import os\n",
    "os.getcwd()"
   ]
  },
  {
   "cell_type": "code",
   "execution_count": 8,
   "id": "05f2e54e",
   "metadata": {},
   "outputs": [],
   "source": [
    "bat_events = \"../output/events_bat.hepmc\"\n",
    "sherpa_events = \"../output/events_sherpa.hepmc\""
   ]
  },
  {
   "cell_type": "code",
   "execution_count": 11,
   "id": "979c27c8",
   "metadata": {},
   "outputs": [
    {
     "name": "stdout",
     "output_type": "stream",
     "text": [
      "________________________________________________________________________\n",
      "GenEvent: #0\n",
      " Momentum units: GEV Position units: MM\n",
      " Entries in this event: 1 vertices, 5 particles, 4 weights.\n",
      " Position offset: 0, 0, 0, 0\n",
      "                                    GenParticle Legend\n",
      "         ID    PDG ID   ( px,       py,       pz,     E )   Stat ProdVtx\n",
      "________________________________________________________________________\n",
      "Vtx:     -1 stat:   0 (X,cT): 0\n",
      " I:       1       21 +0.00e+00,+0.00e+00,+5.00e+02,+5.00e+02   3     0\n",
      "          2       21 +0.00e+00,+0.00e+00,-5.00e+02,+5.00e+02   3     0\n",
      " O:       3       21 +1.35e+02,+1.22e+02,+2.76e+02,+3.30e+02   3    -1\n",
      "          4       21 +2.08e+02,-1.54e+02,-1.67e+02,+3.08e+02   3    -1\n",
      "          5       21 -3.43e+02,+3.28e+01,-1.09e+02,+3.62e+02   3    -1\n",
      "________________________________________________________________________\n",
      "\n"
     ]
    }
   ],
   "source": [
    "# Test that files are OK:\n",
    "with pyhepmc.open(sherpa_events) as f:\n",
    "    event = f.read()\n",
    "    \n",
    "    print(event)\n"
   ]
  },
  {
   "cell_type": "raw",
   "id": "54c17383",
   "metadata": {},
   "source": [
    "event"
   ]
  },
  {
   "cell_type": "code",
   "execution_count": 13,
   "id": "1c142e76",
   "metadata": {},
   "outputs": [],
   "source": [
    "def leading_pT(event):\n",
    "    pT_max = max([p.momentum.pt() for p in event.particles])\n",
    "    return pT_max"
   ]
  },
  {
   "cell_type": "code",
   "execution_count": 14,
   "id": "cb195e04",
   "metadata": {
    "scrolled": false
   },
   "outputs": [],
   "source": [
    "bat_pT = []\n",
    "\n",
    "with pyhepmc.open(bat_events) as f:\n",
    "    for event in f:\n",
    "        #print(event)\n",
    "        bat_pT.append(leading_pT(event))"
   ]
  },
  {
   "cell_type": "code",
   "execution_count": 15,
   "id": "de8c3be5",
   "metadata": {},
   "outputs": [],
   "source": [
    "sherpa_pT = []\n",
    "\n",
    "with pyhepmc.open(sherpa_events) as f:\n",
    "    for event in f:\n",
    "        #print(event)\n",
    "        sherpa_pT.append(leading_pT(event))"
   ]
  },
  {
   "cell_type": "markdown",
   "id": "d87ea7c0",
   "metadata": {},
   "source": [
    "## Plot histogram of leading pT"
   ]
  },
  {
   "cell_type": "code",
   "execution_count": 23,
   "id": "61cac967",
   "metadata": {},
   "outputs": [
    {
     "data": {
      "image/png": "[encoded data removed]",
      "text/plain": [
       "<Figure size 640x480 with 1 Axes>"
      ]
     },
     "metadata": {},
     "output_type": "display_data"
    }
   ],
   "source": [
    "density = True\n",
    "plt.hist(bat_pT, bins=100, histtype='step', label=\"BAT\", density=density) \n",
    "plt.hist(sherpa_pT, bins=100, histtype='step', label=\"Sherpa\", density=density)\n",
    "\n",
    "plt.legend(loc='best')\n",
    "\n",
    "plt.xlabel('pT in GeV')\n",
    "plt.ylabel('N')\n",
    "plt.title('$ gg \\\\rightarrow ggg $ - Leading pT')\n",
    "\n",
    "# Display the plot\n",
    "plt.show()"
   ]
  }
 ],
 "metadata": {
  "kernelspec": {
   "display_name": "Python 3 (ipykernel)",
   "language": "python",
   "name": "python3"
  },
  "language_info": {
   "codemirror_mode": {
    "name": "ipython",
    "version": 3
   },
   "file_extension": ".py",
   "mimetype": "text/x-python",
   "name": "python",
   "nbconvert_exporter": "python",
   "pygments_lexer": "ipython3",
   "version": "3.11.4"
  }
 },
 "nbformat": 4,
 "nbformat_minor": 5
}
